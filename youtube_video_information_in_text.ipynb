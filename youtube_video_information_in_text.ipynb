{
  "cells": [
    {
      "cell_type": "markdown",
      "metadata": {
        "id": "view-in-github",
        "colab_type": "text"
      },
      "source": [
        "<a href=\"https://colab.research.google.com/github/amarnani121/amarnani121/blob/main/youtube_video_information_in_text.ipynb\" target=\"_parent\"><img src=\"https://colab.research.google.com/assets/colab-badge.svg\" alt=\"Open In Colab\"/></a>"
      ]
    },
    {
      "cell_type": "code",
      "source": [
        "pip install youtube-transcript-api"
      ],
      "metadata": {
        "colab": {
          "base_uri": "https://localhost:8080/"
        },
        "id": "5Zw4ojxekitV",
        "outputId": "4da582f8-5794-45c8-b46e-407e9b60d016"
      },
      "execution_count": null,
      "outputs": [
        {
          "output_type": "stream",
          "name": "stdout",
          "text": [
            "Requirement already satisfied: youtube-transcript-api in /usr/local/lib/python3.10/dist-packages (0.6.1)\n",
            "Requirement already satisfied: requests in /usr/local/lib/python3.10/dist-packages (from youtube-transcript-api) (2.31.0)\n",
            "Requirement already satisfied: charset-normalizer<4,>=2 in /usr/local/lib/python3.10/dist-packages (from requests->youtube-transcript-api) (3.3.2)\n",
            "Requirement already satisfied: idna<4,>=2.5 in /usr/local/lib/python3.10/dist-packages (from requests->youtube-transcript-api) (3.6)\n",
            "Requirement already satisfied: urllib3<3,>=1.21.1 in /usr/local/lib/python3.10/dist-packages (from requests->youtube-transcript-api) (2.0.7)\n",
            "Requirement already satisfied: certifi>=2017.4.17 in /usr/local/lib/python3.10/dist-packages (from requests->youtube-transcript-api) (2023.11.17)\n"
          ]
        }
      ]
    },
    {
      "cell_type": "code",
      "source": [
        "from youtube_transcript_api import YouTubeTranscriptApi\n",
        "\n",
        "# assigning srt variable with the list\n",
        "# of dictionaries obtained by the get_transcript() function\n",
        "srt = YouTubeTranscriptApi.get_transcript(\"NxMFEzhJBfs?si=6OQS36Iy1WlF6MEjk\")\n",
        "for i in srt:\n",
        "  print(i['text'])"
      ],
      "metadata": {
        "colab": {
          "base_uri": "https://localhost:8080/"
        },
        "id": "-aZsEcH6kvRW",
        "outputId": "84429479-4ce0-4488-ae68-886b31903d5a"
      },
      "execution_count": null,
      "outputs": [
        {
          "output_type": "stream",
          "name": "stdout",
          "text": [
            "so you're looking to add subtitles to\n",
            "your videos with the tap of a button\n",
            "animate them style them then optimize\n",
            "them for social media all from your\n",
            "phone I got you covered hi guys it's\n",
            "Lauren here from V and in this video I'm\n",
            "going to show you how to easily add\n",
            "subtitles on your iPhone with the V\n",
            "captions app you can record yourself add\n",
            "instant automatic captions style them to\n",
            "suit your brand and even translate them\n",
            "into over 100 languages to help you\n",
            "reach a wider audience now for this\n",
            "we're going to need to download the V\n",
            "captions app open up the app store on\n",
            "your phone hit search type in captions\n",
            "and then download the V app I'm going to\n",
            "pop a link for this down in the\n",
            "description you can go ahead you can\n",
            "pause the video until you've downloaded\n",
            "the free app to your mobile phone then\n",
            "we can get started all right guys so\n",
            "I've got my app downloaded I'm going to\n",
            "open it up it's going to pop up here\n",
            "asking us if we want to upgrade we're\n",
            "going to x out of that then we're going\n",
            "to hit the blue plus sign down the\n",
            "bottom now you can choose a video here\n",
            "from your camera roll or you can opt to\n",
            "record yourself now in real time which\n",
            "is what I'm going to do I'm going to hit\n",
            "record and just say hey guys it's Lauren\n",
            "here from V and I'm going to show you\n",
            "how to easily add captions right within\n",
            "your iPhone let's do\n",
            "it okay so you can play that back see if\n",
            "you like it if not you can hit retake\n",
            "but if you are happy just hit use video\n",
            "give that a moment here and now we can\n",
            "add our automatic captions so I'm going\n",
            "to click language here and then you can\n",
            "choose from any language that you're\n",
            "speaking in I'm speaking in English so\n",
            "I'm just going to type in English to\n",
            "show you that you've got three different\n",
            "options here this is BAS basically based\n",
            "on the dialect and the spelling so like\n",
            "in the UK we would spell color with a u\n",
            "in the US they wouldn't that sort of\n",
            "thing my audience is in the UK I'm going\n",
            "to hit English UK if I wanted to I could\n",
            "hit translate here and we can translate\n",
            "our captions from English into over 100\n",
            "languages but I'm happy with what I've\n",
            "got so I'm going to hit back back again\n",
            "and then hit add English captions and\n",
            "that's just going to take a few seconds\n",
            "here to automatically generate our\n",
            "captions for us okay so we're going to\n",
            "watch it back now and check for any\n",
            "errors I've already spotted one so let\n",
            "me pause the video here and I'm going to\n",
            "scroll back to the top it said feed\n",
            "instead of feed so what I'm going to do\n",
            "is click on the word that's wrong then I\n",
            "can hit it on screen I'm going to delete\n",
            "that feed and change it to Ved all right\n",
            "next thing we can do is we can add\n",
            "certain emphasis here to some of the\n",
            "words so for instance Ved let's change\n",
            "the color of that we're going to click\n",
            "on the white circle you can choose from\n",
            "any of these colors you see here or\n",
            "click on the multicolored Circle icon\n",
            "and then that's going to open up a grid\n",
            "or you can choose from a spectrum or\n",
            "sliders on the grid I'm going to choose\n",
            "yellow and then we've got that in yellow\n",
            "and if I hit the X here I can also make\n",
            "it unbold make it bold again italic and\n",
            "underline it and you can repeat that as\n",
            "many times as you like and once you're\n",
            "finished click done and then we can\n",
            "style it so we're going to click the\n",
            "paintbrush here that's going to open up\n",
            "some presets we've got loads of built-in\n",
            "ones here I quite like this purple one\n",
            "I'm going to choose that however I do\n",
            "want to change the font so I'm going to\n",
            "hit the font tab here and now if I\n",
            "scroll over you can pick from any of\n",
            "these fonts let me choose monster at\n",
            "yeah I like that you can change the\n",
            "color I'm happy with mine don't need to\n",
            "do that you can change the alignment the\n",
            "lines per screen No Limit one or two the\n",
            "line length short medium or long then\n",
            "you can also change the decoration\n",
            "adding emphasis uppercase lower case\n",
            "that sort of thing you can change the\n",
            "effect next if you like you can choose\n",
            "Shadow outline thick outline rounded\n",
            "block but I quite like the original so\n",
            "we're going to stick with that and\n",
            "lastly animation you can just click on\n",
            "these here to test them out and see how\n",
            "they look impact is just one word at a\n",
            "time I like the original one so I'm\n",
            "going to click box highlight I'm going\n",
            "to tap on my screen here I'm happy with\n",
            "how it looks last thing we need to do\n",
            "though is position those so make sure\n",
            "that we optimize it for social media if\n",
            "you just use both fingers here you can\n",
            "push it in make it smaller you can drag\n",
            "it around the screen just make sure that\n",
            "it stays somewhere around here so that\n",
            "it remains visible throughout the video\n",
            "now we're happy with it we can click the\n",
            "Blue Tick and here we can test it out to\n",
            "make sure that it is optimized for\n",
            "social media so if I click it there on\n",
            "reals you'll see text remains visible\n",
            "Tik Tok we're good YouTube we're good\n",
            "and Snapchat we're perfect all right\n",
            "down below here we can choose to export\n",
            "it as standard high definition or 4K I'm\n",
            "going to choose HD hit export it's going\n",
            "to take a few seconds here and now we\n",
            "can hit share you can save that directly\n",
            "here to your video on your camera roll\n",
            "or if I hit Instagram you can share it\n",
            "directly to all of your social media\n",
            "mine's fine I'm filming here in my house\n",
            "but if you did film outside you also\n",
            "have the option to clean up the audio to\n",
            "remove any background noise and that's\n",
            "it that is how to easily add captions\n",
            "within your iPhone using the V captions\n",
            "app I really hope you found this video\n",
            "helpful and I will see you in the next\n",
            "one bye\n"
          ]
        }
      ]
    },
    {
      "cell_type": "code",
      "source": [
        "!pip install -q transformers\n"
      ],
      "metadata": {
        "id": "qRr53IUar7jf"
      },
      "execution_count": null,
      "outputs": []
    },
    {
      "cell_type": "code",
      "source": [
        "from transformers import pipeline"
      ],
      "metadata": {
        "id": "lkBJISzisDJi"
      },
      "execution_count": null,
      "outputs": []
    },
    {
      "cell_type": "code",
      "source": [
        "result = \"\"\n",
        "for i in srt:\n",
        "    result += ' ' + i['text']\n",
        "#print(result)\n",
        "print(len(result))"
      ],
      "metadata": {
        "colab": {
          "base_uri": "https://localhost:8080/"
        },
        "id": "7alA8jFesWgg",
        "outputId": "67461de6-959e-4786-ff6b-65f6c0664e71"
      },
      "execution_count": null,
      "outputs": [
        {
          "output_type": "stream",
          "name": "stdout",
          "text": [
            "5453\n"
          ]
        }
      ]
    },
    {
      "cell_type": "code",
      "source": [
        "summarizer = pipeline('summarization')"
      ],
      "metadata": {
        "colab": {
          "base_uri": "https://localhost:8080/"
        },
        "id": "5RJLvj_Nse9g",
        "outputId": "a39b9405-0f0d-48a8-9da8-dc89cc067281"
      },
      "execution_count": null,
      "outputs": [
        {
          "output_type": "stream",
          "name": "stderr",
          "text": [
            "No model was supplied, defaulted to sshleifer/distilbart-cnn-12-6 and revision a4f8f3e (https://huggingface.co/sshleifer/distilbart-cnn-12-6).\n",
            "Using a pipeline without specifying a model name and revision in production is not recommended.\n"
          ]
        }
      ]
    },
    {
      "cell_type": "code",
      "source": [
        "num_iters = int(len(result)/1000)\n",
        "summarized_text = []\n",
        "for i in range(0, num_iters + 1):\n",
        "  start = 0\n",
        "  start = i * 1000\n",
        "  end = (i + 1) * 1000\n",
        "  print(\"input text \\n\" + result[start:end])\n",
        "  out = summarizer(result[start:end])\n",
        "  out = out[0]\n",
        "  out = out['summary_text']\n",
        "  print(\"Summarized text\\n\"+out)\n",
        "  summarized_text.append(out)"
      ],
      "metadata": {
        "colab": {
          "base_uri": "https://localhost:8080/"
        },
        "id": "CU-1mbVXsred",
        "outputId": "57e43e53-1d66-4add-af23-cbf3c00a2c56"
      },
      "execution_count": null,
      "outputs": [
        {
          "output_type": "stream",
          "name": "stdout",
          "text": [
            "input text \n",
            " so you're looking to add subtitles to your videos with the tap of a button animate them style them then optimize them for social media all from your phone I got you covered hi guys it's Lauren here from V and in this video I'm going to show you how to easily add subtitles on your iPhone with the V captions app you can record yourself add instant automatic captions style them to suit your brand and even translate them into over 100 languages to help you reach a wider audience now for this we're going to need to download the V captions app open up the app store on your phone hit search type in captions and then download the V app I'm going to pop a link for this down in the description you can go ahead you can pause the video until you've downloaded the free app to your mobile phone then we can get started all right guys so I've got my app downloaded I'm going to open it up it's going to pop up here asking us if we want to upgrade we're going to x out of that then we're going to hit the\n",
            "Summarized text\n",
            " Lauren from V shows how to easily add subtitles on your iPhone with the V captions app . The free app can record yourself add instant automatic automatic captions style them to suit your brand and even translate them into over 100 languages to help you reach a wider audience . Lauren shows you how to add subtitles to your videos with the tap of a button .\n",
            "input text \n",
            " blue plus sign down the bottom now you can choose a video here from your camera roll or you can opt to record yourself now in real time which is what I'm going to do I'm going to hit record and just say hey guys it's Lauren here from V and I'm going to show you how to easily add captions right within your iPhone let's do it okay so you can play that back see if you like it if not you can hit retake but if you are happy just hit use video give that a moment here and now we can add our automatic captions so I'm going to click language here and then you can choose from any language that you're speaking in I'm speaking in English so I'm just going to type in English to show you that you've got three different options here this is BAS basically based on the dialect and the spelling so like in the UK we would spell color with a u in the US they wouldn't that sort of thing my audience is in the UK I'm going to hit English UK if I wanted to I could hit translate here and we can translate our \n",
            "Summarized text\n",
            " Lauren from V shows you how to easily add captions right within your iPhone . She explains how to use captions in real-time video and how to add them to your camera roll . The captions are automatically based on the dialect and the spelling of the language you're speaking in .\n",
            "input text \n",
            "captions from English into over 100 languages but I'm happy with what I've got so I'm going to hit back back again and then hit add English captions and that's just going to take a few seconds here to automatically generate our captions for us okay so we're going to watch it back now and check for any errors I've already spotted one so let me pause the video here and I'm going to scroll back to the top it said feed instead of feed so what I'm going to do is click on the word that's wrong then I can hit it on screen I'm going to delete that feed and change it to Ved all right next thing we can do is we can add certain emphasis here to some of the words so for instance Ved let's change the color of that we're going to click on the white circle you can choose from any of these colors you see here or click on the multicolored Circle icon and then that's going to open up a grid or you can choose from a spectrum or sliders on the grid I'm going to choose yellow and then we've got that in yel\n",
            "Summarized text\n",
            " We're going to use yel. captions from English into over 100 languages but I'm happy with what I've got so I'm going to hit back back again and then hit add English captions and that's just going to take a few seconds here to automatically generate our captions for us .\n",
            "input text \n",
            "low and if I hit the X here I can also make it unbold make it bold again italic and underline it and you can repeat that as many times as you like and once you're finished click done and then we can style it so we're going to click the paintbrush here that's going to open up some presets we've got loads of built-in ones here I quite like this purple one I'm going to choose that however I do want to change the font so I'm going to hit the font tab here and now if I scroll over you can pick from any of these fonts let me choose monster at yeah I like that you can change the color I'm happy with mine don't need to do that you can change the alignment the lines per screen No Limit one or two the line length short medium or long then you can also change the decoration adding emphasis uppercase lower case that sort of thing you can change the effect next if you like you can choose Shadow outline thick outline rounded block but I quite like the original so we're going to stick with that and l\n",
            "Summarized text\n",
            " We're going to click the paintbrush here that's going to open up some presets we've got loads of built-in ones here I quite like this purple one I'm going to choose that however I do want to change the font . If I hit the X here I can also make it unbold make it bold again italic and underline it and you can repeat that as many times as you like . You can also change the decoration adding emphasis uppercase lower case that sort of thing .\n",
            "input text \n",
            "astly animation you can just click on these here to test them out and see how they look impact is just one word at a time I like the original one so I'm going to click box highlight I'm going to tap on my screen here I'm happy with how it looks last thing we need to do though is position those so make sure that we optimize it for social media if you just use both fingers here you can push it in make it smaller you can drag it around the screen just make sure that it stays somewhere around here so that it remains visible throughout the video now we're happy with it we can click the Blue Tick and here we can test it out to make sure that it is optimized for social media so if I click it there on reals you'll see text remains visible Tik Tok we're good YouTube we're good and Snapchat we're perfect all right down below here we can choose to export it as standard high definition or 4K I'm going to choose HD hit export it's going to take a few seconds here and now we can hit share you can sa\n"
          ]
        },
        {
          "output_type": "stream",
          "name": "stderr",
          "text": [
            "Your max_length is set to 142, but your input_length is only 99. Since this is a summarization task, where outputs shorter than the input are typically wanted, you might consider decreasing max_length manually, e.g. summarizer('...', max_length=49)\n"
          ]
        },
        {
          "output_type": "stream",
          "name": "stdout",
          "text": [
            "Summarized text\n",
            " astly animation you can just click on these here to test them out and see how they look impact is just one word at a time I like the original one so I'm going to click box highlight . I'm happy with how it looks last thing we need to do is position those so make sure that we optimize it for social media .\n",
            "input text \n",
            "ve that directly here to your video on your camera roll or if I hit Instagram you can share it directly to all of your social media mine's fine I'm filming here in my house but if you did film outside you also have the option to clean up the audio to remove any background noise and that's it that is how to easily add captions within your iPhone using the V captions app I really hope you found this video helpful and I will see you in the next one bye\n",
            "Summarized text\n",
            " How to easily add captions within your iPhone using the V captions app . If you did film outside you also have the option to clean up the audio to remove any background noise . If I hit Instagram you can share it directly to all of your social media me's fine I'm filming here in my house .\n"
          ]
        }
      ]
    },
    {
      "cell_type": "code",
      "source": [
        "str(summarized_text)"
      ],
      "metadata": {
        "colab": {
          "base_uri": "https://localhost:8080/",
          "height": 139
        },
        "id": "HKcvFSNctGdX",
        "outputId": "84a8da8e-db80-4146-af83-8b47711eeccb"
      },
      "execution_count": null,
      "outputs": [
        {
          "output_type": "execute_result",
          "data": {
            "text/plain": [
              "'[\\' Lauren from V shows how to easily add subtitles on your iPhone with the V captions app . The free app can record yourself add instant automatic automatic captions style them to suit your brand and even translate them into over 100 languages to help you reach a wider audience . Lauren shows you how to add subtitles to your videos with the tap of a button .\\', \" Lauren from V shows you how to easily add captions right within your iPhone . She explains how to use captions in real-time video and how to add them to your camera roll . The captions are automatically based on the dialect and the spelling of the language you\\'re speaking in .\", \" We\\'re going to use yel. captions from English into over 100 languages but I\\'m happy with what I\\'ve got so I\\'m going to hit back back again and then hit add English captions and that\\'s just going to take a few seconds here to automatically generate our captions for us .\", \" We\\'re going to click the paintbrush here that\\'s going to open up some presets we\\'ve got loads of built-in ones here I quite like this purple one I\\'m going to choose that however I do want to change the font . If I hit the X here I can also make it unbold make it bold again italic and underline it and you can repeat that as many times as you like . You can also change the decoration adding emphasis uppercase lower case that sort of thing .\", \" astly animation you can just click on these here to test them out and see how they look impact is just one word at a time I like the original one so I\\'m going to click box highlight . I\\'m happy with how it looks last thing we need to do is position those so make sure that we optimize it for social media .\", \" How to easily add captions within your iPhone using the V captions app . If you did film outside you also have the option to clean up the audio to remove any background noise . If I hit Instagram you can share it directly to all of your social media me\\'s fine I\\'m filming here in my house .\"]'"
            ],
            "application/vnd.google.colaboratory.intrinsic+json": {
              "type": "string"
            }
          },
          "metadata": {},
          "execution_count": 33
        }
      ]
    },
    {
      "cell_type": "code",
      "source": [
        "len(str(summarized_text))"
      ],
      "metadata": {
        "colab": {
          "base_uri": "https://localhost:8080/"
        },
        "id": "xfsZwrXftM5c",
        "outputId": "da95d14a-dbd9-42d2-bceb-5ff54e5f7ce2"
      },
      "execution_count": null,
      "outputs": [
        {
          "output_type": "execute_result",
          "data": {
            "text/plain": [
              "1971"
            ]
          },
          "metadata": {},
          "execution_count": 34
        }
      ]
    }
  ],
  "metadata": {
    "colab": {
      "provenance": [],
      "authorship_tag": "ABX9TyNOfO5HpV4gyDH9C9Sy3WvZ",
      "include_colab_link": true
    },
    "kernelspec": {
      "display_name": "Python 3",
      "name": "python3"
    },
    "language_info": {
      "name": "python"
    }
  },
  "nbformat": 4,
  "nbformat_minor": 0
}